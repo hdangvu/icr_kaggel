{
 "cells": [
  {
   "cell_type": "code",
   "execution_count": 1,
   "id": "7a640459",
   "metadata": {
    "execution": {
     "iopub.execute_input": "2023-08-13T11:08:57.644655Z",
     "iopub.status.busy": "2023-08-13T11:08:57.643882Z",
     "iopub.status.idle": "2023-08-13T11:09:14.563571Z",
     "shell.execute_reply": "2023-08-13T11:09:14.562275Z"
    },
    "papermill": {
     "duration": 16.929775,
     "end_time": "2023-08-13T11:09:14.566072",
     "exception": false,
     "start_time": "2023-08-13T11:08:57.636297",
     "status": "completed"
    },
    "tags": []
   },
   "outputs": [
    {
     "name": "stdout",
     "output_type": "stream",
     "text": [
      "Looking in links: file:///kaggle/input/pip-packages-icr/pip-packages\r\n",
      "Processing /kaggle/input/pip-packages-icr/pip-packages/tabpfn-0.1.9-py3-none-any.whl\r\n",
      "Requirement already satisfied: numpy>=1.21.2 in /opt/conda/lib/python3.10/site-packages (from tabpfn) (1.23.5)\r\n",
      "Requirement already satisfied: pyyaml>=5.4.1 in /opt/conda/lib/python3.10/site-packages (from tabpfn) (6.0)\r\n",
      "Requirement already satisfied: requests>=2.23.0 in /opt/conda/lib/python3.10/site-packages (from tabpfn) (2.31.0)\r\n",
      "Requirement already satisfied: scikit-learn>=0.24.2 in /opt/conda/lib/python3.10/site-packages (from tabpfn) (1.2.2)\r\n",
      "Requirement already satisfied: torch>=1.9.0 in /opt/conda/lib/python3.10/site-packages (from tabpfn) (2.0.0)\r\n",
      "Requirement already satisfied: charset-normalizer<4,>=2 in /opt/conda/lib/python3.10/site-packages (from requests>=2.23.0->tabpfn) (3.1.0)\r\n",
      "Requirement already satisfied: idna<4,>=2.5 in /opt/conda/lib/python3.10/site-packages (from requests>=2.23.0->tabpfn) (3.4)\r\n",
      "Requirement already satisfied: urllib3<3,>=1.21.1 in /opt/conda/lib/python3.10/site-packages (from requests>=2.23.0->tabpfn) (1.26.15)\r\n",
      "Requirement already satisfied: certifi>=2017.4.17 in /opt/conda/lib/python3.10/site-packages (from requests>=2.23.0->tabpfn) (2023.5.7)\r\n",
      "Requirement already satisfied: scipy>=1.3.2 in /opt/conda/lib/python3.10/site-packages (from scikit-learn>=0.24.2->tabpfn) (1.11.1)\r\n",
      "Requirement already satisfied: joblib>=1.1.1 in /opt/conda/lib/python3.10/site-packages (from scikit-learn>=0.24.2->tabpfn) (1.2.0)\r\n",
      "Requirement already satisfied: threadpoolctl>=2.0.0 in /opt/conda/lib/python3.10/site-packages (from scikit-learn>=0.24.2->tabpfn) (3.1.0)\r\n",
      "Requirement already satisfied: filelock in /opt/conda/lib/python3.10/site-packages (from torch>=1.9.0->tabpfn) (3.12.2)\r\n",
      "Requirement already satisfied: typing-extensions in /opt/conda/lib/python3.10/site-packages (from torch>=1.9.0->tabpfn) (4.6.3)\r\n",
      "Requirement already satisfied: sympy in /opt/conda/lib/python3.10/site-packages (from torch>=1.9.0->tabpfn) (1.12)\r\n",
      "Requirement already satisfied: networkx in /opt/conda/lib/python3.10/site-packages (from torch>=1.9.0->tabpfn) (3.1)\r\n",
      "Requirement already satisfied: jinja2 in /opt/conda/lib/python3.10/site-packages (from torch>=1.9.0->tabpfn) (3.1.2)\r\n",
      "Requirement already satisfied: MarkupSafe>=2.0 in /opt/conda/lib/python3.10/site-packages (from jinja2->torch>=1.9.0->tabpfn) (2.1.3)\r\n",
      "Requirement already satisfied: mpmath>=0.19 in /opt/conda/lib/python3.10/site-packages (from sympy->torch>=1.9.0->tabpfn) (1.3.0)\r\n",
      "Installing collected packages: tabpfn\r\n",
      "Successfully installed tabpfn-0.1.9\r\n"
     ]
    }
   ],
   "source": [
    "!pip install tabpfn --no-index --find-links=file:///kaggle/input/pip-packages-icr/pip-packages\n",
    "!mkdir -p /opt/conda/lib/python3.10/site-packages/tabpfn/models_diff\n",
    "!cp /kaggle/input/pip-packages-icr/pip-packages/prior_diff_real_checkpoint_n_0_epoch_100.cpkt /opt/conda/lib/python3.10/site-packages/tabpfn/models_diff/"
   ]
  },
  {
   "cell_type": "code",
   "execution_count": 2,
   "id": "650c793f",
   "metadata": {
    "execution": {
     "iopub.execute_input": "2023-08-13T11:09:14.579778Z",
     "iopub.status.busy": "2023-08-13T11:09:14.578898Z",
     "iopub.status.idle": "2023-08-13T11:09:21.748861Z",
     "shell.execute_reply": "2023-08-13T11:09:21.747872Z"
    },
    "papermill": {
     "duration": 7.179466,
     "end_time": "2023-08-13T11:09:21.751348",
     "exception": false,
     "start_time": "2023-08-13T11:09:14.571882",
     "status": "completed"
    },
    "tags": []
   },
   "outputs": [
    {
     "name": "stderr",
     "output_type": "stream",
     "text": [
      "/opt/conda/lib/python3.10/site-packages/scipy/__init__.py:146: UserWarning: A NumPy version >=1.16.5 and <1.23.0 is required for this version of SciPy (detected version 1.23.5\n",
      "  warnings.warn(f\"A NumPy version >={np_minversion} and <{np_maxversion}\"\n"
     ]
    }
   ],
   "source": [
    "# Import Joblib Module from Scikit Learn\n",
    "import joblib\n",
    "\n",
    "import numpy as np                       # NumPy for numerical computations\n",
    "import pandas as pd                      # Pandas for data manipulation and analysis\n",
    "import matplotlib.pyplot as plt\n",
    "from sklearn.preprocessing import LabelEncoder, normalize   # LabelEncoder for encoding categorical variables, normalize for feature scaling\n",
    "from sklearn.preprocessing import StandardScaler, MinMaxScaler, RobustScaler\n",
    "\n",
    "from sklearn.linear_model import LogisticRegression, SGDClassifier\n",
    "from sklearn.svm import SVC\n",
    "from sklearn.naive_bayes import GaussianNB, MultinomialNB\n",
    "from lightgbm import LGBMClassifier\n",
    "from sklearn.neighbors import KNeighborsClassifier\n",
    "from sklearn.ensemble import GradientBoostingClassifier, RandomForestClassifier   # GradientBoostingClassifier and RandomForestClassifier for classification models\n",
    "from tabpfn import TabPFNClassifier \n",
    "import xgboost   # XGBoost for gradient boosting models\n",
    "from xgboost import XGBClassifier\n",
    "\n",
    "from sklearn.metrics import accuracy_score   # accuracy_score for evaluating model performance\n",
    "from sklearn.impute import SimpleImputer   # SimpleImputer for handling missing values\n",
    "import imblearn   # imblearn for imbalanced dataset handling\n",
    "from imblearn.over_sampling import RandomOverSampler   # RandomOverSampler for oversampling minority class\n",
    "from imblearn.under_sampling import RandomUnderSampler   # RandomUnderSampler for undersampling majority class\n",
    "import inspect   # inspect for retrieving information about live objects\n",
    "from collections import defaultdict   # defaultdict for creating a dictionary with default values\n",
    "import warnings   # warnings for ignoring warnings during runtime\n",
    "from sklearn.model_selection import KFold as KF\n",
    "from sklearn.model_selection import StratifiedKFold\n",
    "from tqdm import tqdm\n",
    "import sys\n",
    "import os\n",
    "import joblib\n",
    "import pickle"
   ]
  },
  {
   "cell_type": "markdown",
   "id": "864c61a2",
   "metadata": {
    "papermill": {
     "duration": 0.005344,
     "end_time": "2023-08-13T11:09:21.762493",
     "exception": false,
     "start_time": "2023-08-13T11:09:21.757149",
     "status": "completed"
    },
    "tags": []
   },
   "source": [
    "## Pre-processing"
   ]
  },
  {
   "cell_type": "code",
   "execution_count": 3,
   "id": "94d9b971",
   "metadata": {
    "execution": {
     "iopub.execute_input": "2023-08-13T11:09:21.776336Z",
     "iopub.status.busy": "2023-08-13T11:09:21.774505Z",
     "iopub.status.idle": "2023-08-13T11:09:21.781227Z",
     "shell.execute_reply": "2023-08-13T11:09:21.780356Z"
    },
    "papermill": {
     "duration": 0.015558,
     "end_time": "2023-08-13T11:09:21.783423",
     "exception": false,
     "start_time": "2023-08-13T11:09:21.767865",
     "status": "completed"
    },
    "tags": []
   },
   "outputs": [],
   "source": [
    "def prepair_test(df):\n",
    "    #take 'Id' column and drop 'Id', 'EJ' columns\n",
    "    Id = df['Id']\n",
    "    test = df.drop(['Id', 'EJ'], axis=1)\n",
    "    columns = test.columns\n",
    "    \n",
    "    imputer = SimpleImputer(missing_values = np.nan, strategy ='median')\n",
    "    imputer = imputer.fit(test)\n",
    "    test = imputer.transform(test)\n",
    "    test = pd.DataFrame(test, columns = columns)\n",
    "    return Id, test"
   ]
  },
  {
   "cell_type": "markdown",
   "id": "624a7b73",
   "metadata": {
    "papermill": {
     "duration": 0.005258,
     "end_time": "2023-08-13T11:09:21.794022",
     "exception": false,
     "start_time": "2023-08-13T11:09:21.788764",
     "status": "completed"
    },
    "tags": []
   },
   "source": [
    "## Ensemble"
   ]
  },
  {
   "cell_type": "code",
   "execution_count": 4,
   "id": "7b4da5fc",
   "metadata": {
    "execution": {
     "iopub.execute_input": "2023-08-13T11:09:21.806427Z",
     "iopub.status.busy": "2023-08-13T11:09:21.806138Z",
     "iopub.status.idle": "2023-08-13T11:09:21.815081Z",
     "shell.execute_reply": "2023-08-13T11:09:21.814219Z"
    },
    "papermill": {
     "duration": 0.017613,
     "end_time": "2023-08-13T11:09:21.817201",
     "exception": false,
     "start_time": "2023-08-13T11:09:21.799588",
     "status": "completed"
    },
    "tags": []
   },
   "outputs": [],
   "source": [
    "class Ensemble():\n",
    "    def __init__(self):\n",
    "        self.classifiers = config_classifiers(config)\n",
    "        print(self.classifiers)\n",
    "        \n",
    "    def fit(self,X,y):\n",
    "        for classifier in self.classifiers:\n",
    "            print(classifier)\n",
    "            if (type(classifier) == type(tabpfn)):\n",
    "                classifier.fit(X, y, overwrite_warning=True)\n",
    "            else :\n",
    "                classifier.fit(X, y)\n",
    "     \n",
    "    def predict_proba(self, x):\n",
    "        # N_models * N_rows * N_classes (#models * 5 * 4)\n",
    "        probabilities = np.stack([classifier.predict_proba(x) for classifier in self.classifiers])\n",
    "        averaged_probabilities = np.mean(probabilities, axis=0) # N_rows * N_classes\n",
    "        class_0_est_instances = averaged_probabilities[:, 0].sum()  # N_rows\n",
    "        others_est_instances = averaged_probabilities[:, 1:].sum()  # N_rows   \n",
    "        # Weighted probabilities based on class imbalance\n",
    "        new_probabilities = averaged_probabilities * np.array([[1/(class_0_est_instances if i==0 else others_est_instances) for i in range(averaged_probabilities.shape[1])]])\n",
    "        ret =  new_probabilities / np.sum(new_probabilities, axis=1, keepdims=1) \n",
    "        return ret"
   ]
  },
  {
   "cell_type": "markdown",
   "id": "7070e7c7",
   "metadata": {
    "papermill": {
     "duration": 0.005179,
     "end_time": "2023-08-13T11:09:21.827760",
     "exception": false,
     "start_time": "2023-08-13T11:09:21.822581",
     "status": "completed"
    },
    "tags": []
   },
   "source": [
    "## Post processing"
   ]
  },
  {
   "cell_type": "code",
   "execution_count": 5,
   "id": "227fd1e8",
   "metadata": {
    "execution": {
     "iopub.execute_input": "2023-08-13T11:09:21.839770Z",
     "iopub.status.busy": "2023-08-13T11:09:21.839519Z",
     "iopub.status.idle": "2023-08-13T11:09:21.845383Z",
     "shell.execute_reply": "2023-08-13T11:09:21.844474Z"
    },
    "papermill": {
     "duration": 0.01426,
     "end_time": "2023-08-13T11:09:21.847404",
     "exception": false,
     "start_time": "2023-08-13T11:09:21.833144",
     "status": "completed"
    },
    "tags": []
   },
   "outputs": [],
   "source": [
    "def calibrate_prob(probs, shape, thres_1, thres_0):\n",
    "#     print('TYPE:', probs.shape, type(probs))\n",
    "    \n",
    "    #transfer to probabilitiy of 2 class: 0 & 1\n",
    "    class_0_prob = probs[:, 0]\n",
    "    others_prob = probs[:, 1:].sum(axis=1)\n",
    "    class_0_prob = class_0_prob.reshape((shape, 1))\n",
    "    others_prob = others_prob.reshape((shape, 1))\n",
    "    \n",
    "#     probs = np.concatenate([class_0_prob, others_prob], axis=-1)\n",
    "#     ret = probs.copy()\n",
    "    col_0 = class_0_prob.copy()\n",
    "    col_0[class_0_prob < thres_1] = 0.0\n",
    "    col_0[class_0_prob > thres_0] = 1.0\n",
    "    col_1 = 1.0 - col_0\n",
    "    ret = np.concatenate([col_0, col_1], axis = -1)\n",
    "#     print('ret', type(ret))\n",
    "    return ret"
   ]
  },
  {
   "cell_type": "markdown",
   "id": "c469ea50",
   "metadata": {
    "papermill": {
     "duration": 0.00527,
     "end_time": "2023-08-13T11:09:21.858050",
     "exception": false,
     "start_time": "2023-08-13T11:09:21.852780",
     "status": "completed"
    },
    "tags": []
   },
   "source": [
    "## Load Model"
   ]
  },
  {
   "cell_type": "code",
   "execution_count": 6,
   "id": "7e8bb55b",
   "metadata": {
    "execution": {
     "iopub.execute_input": "2023-08-13T11:09:21.869953Z",
     "iopub.status.busy": "2023-08-13T11:09:21.869693Z",
     "iopub.status.idle": "2023-08-13T11:09:37.003362Z",
     "shell.execute_reply": "2023-08-13T11:09:37.002354Z"
    },
    "papermill": {
     "duration": 15.142376,
     "end_time": "2023-08-13T11:09:37.005782",
     "exception": false,
     "start_time": "2023-08-13T11:09:21.863406",
     "status": "completed"
    },
    "tags": []
   },
   "outputs": [],
   "source": [
    "save_dir = '/kaggle/input/save-models/ensemble.sav'\n",
    "models = pickle.load(open(save_dir, 'rb'))"
   ]
  },
  {
   "cell_type": "code",
   "execution_count": 7,
   "id": "8495ef7d",
   "metadata": {
    "execution": {
     "iopub.execute_input": "2023-08-13T11:09:37.018520Z",
     "iopub.status.busy": "2023-08-13T11:09:37.018193Z",
     "iopub.status.idle": "2023-08-13T11:09:37.025637Z",
     "shell.execute_reply": "2023-08-13T11:09:37.024632Z"
    },
    "papermill": {
     "duration": 0.017393,
     "end_time": "2023-08-13T11:09:37.029089",
     "exception": false,
     "start_time": "2023-08-13T11:09:37.011696",
     "status": "completed"
    },
    "tags": []
   },
   "outputs": [
    {
     "data": {
      "text/plain": [
       "[<__main__.Ensemble at 0x7db64acda0b0>,\n",
       " <__main__.Ensemble at 0x7db5964cfd60>,\n",
       " <__main__.Ensemble at 0x7db595d39660>,\n",
       " <__main__.Ensemble at 0x7db595c84520>,\n",
       " <__main__.Ensemble at 0x7db595baf970>]"
      ]
     },
     "execution_count": 7,
     "metadata": {},
     "output_type": "execute_result"
    }
   ],
   "source": [
    "models"
   ]
  },
  {
   "cell_type": "markdown",
   "id": "afa34f74",
   "metadata": {
    "papermill": {
     "duration": 0.00536,
     "end_time": "2023-08-13T11:09:37.040090",
     "exception": false,
     "start_time": "2023-08-13T11:09:37.034730",
     "status": "completed"
    },
    "tags": []
   },
   "source": [
    "## Load Thres"
   ]
  },
  {
   "cell_type": "code",
   "execution_count": 8,
   "id": "8a8a896f",
   "metadata": {
    "execution": {
     "iopub.execute_input": "2023-08-13T11:09:37.052274Z",
     "iopub.status.busy": "2023-08-13T11:09:37.052001Z",
     "iopub.status.idle": "2023-08-13T11:09:37.062729Z",
     "shell.execute_reply": "2023-08-13T11:09:37.061872Z"
    },
    "papermill": {
     "duration": 0.019223,
     "end_time": "2023-08-13T11:09:37.064843",
     "exception": false,
     "start_time": "2023-08-13T11:09:37.045620",
     "status": "completed"
    },
    "tags": []
   },
   "outputs": [
    {
     "data": {
      "text/plain": [
       "[0.02, 0.7799999999999999, 0.17258183678220163]"
      ]
     },
     "execution_count": 8,
     "metadata": {},
     "output_type": "execute_result"
    }
   ],
   "source": [
    "thres = pickle.load(open('/kaggle/input/save-models/thres.sav', 'rb'))\n",
    "thres"
   ]
  },
  {
   "cell_type": "markdown",
   "id": "64036fa4",
   "metadata": {
    "papermill": {
     "duration": 0.00547,
     "end_time": "2023-08-13T11:09:37.076059",
     "exception": false,
     "start_time": "2023-08-13T11:09:37.070589",
     "status": "completed"
    },
    "tags": []
   },
   "source": [
    "## Infer"
   ]
  },
  {
   "cell_type": "code",
   "execution_count": 9,
   "id": "85ae211b",
   "metadata": {
    "execution": {
     "iopub.execute_input": "2023-08-13T11:09:37.088673Z",
     "iopub.status.busy": "2023-08-13T11:09:37.088371Z",
     "iopub.status.idle": "2023-08-13T11:09:37.117494Z",
     "shell.execute_reply": "2023-08-13T11:09:37.116611Z"
    },
    "papermill": {
     "duration": 0.038119,
     "end_time": "2023-08-13T11:09:37.119855",
     "exception": false,
     "start_time": "2023-08-13T11:09:37.081736",
     "status": "completed"
    },
    "tags": []
   },
   "outputs": [],
   "source": [
    "test = pd.read_csv('/kaggle/input/icr-identify-age-related-conditions/test.csv')\n",
    "\n",
    "#pre-processing\n",
    "Id, test = prepair_test(test)"
   ]
  },
  {
   "cell_type": "code",
   "execution_count": 10,
   "id": "38724d50",
   "metadata": {
    "execution": {
     "iopub.execute_input": "2023-08-13T11:09:37.132436Z",
     "iopub.status.busy": "2023-08-13T11:09:37.132143Z",
     "iopub.status.idle": "2023-08-13T11:09:49.893953Z",
     "shell.execute_reply": "2023-08-13T11:09:49.892803Z"
    },
    "papermill": {
     "duration": 12.77081,
     "end_time": "2023-08-13T11:09:49.896386",
     "exception": false,
     "start_time": "2023-08-13T11:09:37.125576",
     "status": "completed"
    },
    "tags": []
   },
   "outputs": [],
   "source": [
    "y_p_lst = list()\n",
    "num_ensembles = len(models)\n",
    "\n",
    "#post processing\n",
    "for ensemble in models:\n",
    "    y_pred = ensemble.predict_proba(test)\n",
    "    shape = test.shape[0]\n",
    "    y_p = calibrate_prob(y_pred, shape, thres[0], thres[1])\n",
    "    y_p_lst.append(y_p)\n",
    "\n",
    "y_p = np.array(y_p_lst).sum(axis=0)/num_ensembles"
   ]
  },
  {
   "cell_type": "code",
   "execution_count": 11,
   "id": "b31618d3",
   "metadata": {
    "execution": {
     "iopub.execute_input": "2023-08-13T11:09:49.909732Z",
     "iopub.status.busy": "2023-08-13T11:09:49.909381Z",
     "iopub.status.idle": "2023-08-13T11:09:49.920752Z",
     "shell.execute_reply": "2023-08-13T11:09:49.919729Z"
    },
    "papermill": {
     "duration": 0.020377,
     "end_time": "2023-08-13T11:09:49.923037",
     "exception": false,
     "start_time": "2023-08-13T11:09:49.902660",
     "status": "completed"
    },
    "tags": []
   },
   "outputs": [],
   "source": [
    "#post processing\n",
    "shape = test.shape[0]\n",
    "\n",
    "#submission\n",
    "submission = pd.DataFrame(Id, columns=['Id'])\n",
    "submission[\"class_0\"] = y_p[:, 0]\n",
    "submission[\"class_1\"] = y_p[:, 1]\n",
    "submission.to_csv('submission.csv', index=False)"
   ]
  },
  {
   "cell_type": "code",
   "execution_count": 12,
   "id": "77811a27",
   "metadata": {
    "execution": {
     "iopub.execute_input": "2023-08-13T11:09:49.935830Z",
     "iopub.status.busy": "2023-08-13T11:09:49.935558Z",
     "iopub.status.idle": "2023-08-13T11:09:49.950316Z",
     "shell.execute_reply": "2023-08-13T11:09:49.949461Z"
    },
    "papermill": {
     "duration": 0.023393,
     "end_time": "2023-08-13T11:09:49.952347",
     "exception": false,
     "start_time": "2023-08-13T11:09:49.928954",
     "status": "completed"
    },
    "tags": []
   },
   "outputs": [
    {
     "data": {
      "text/html": [
       "<div>\n",
       "<style scoped>\n",
       "    .dataframe tbody tr th:only-of-type {\n",
       "        vertical-align: middle;\n",
       "    }\n",
       "\n",
       "    .dataframe tbody tr th {\n",
       "        vertical-align: top;\n",
       "    }\n",
       "\n",
       "    .dataframe thead th {\n",
       "        text-align: right;\n",
       "    }\n",
       "</style>\n",
       "<table border=\"1\" class=\"dataframe\">\n",
       "  <thead>\n",
       "    <tr style=\"text-align: right;\">\n",
       "      <th></th>\n",
       "      <th>Id</th>\n",
       "      <th>class_0</th>\n",
       "      <th>class_1</th>\n",
       "    </tr>\n",
       "  </thead>\n",
       "  <tbody>\n",
       "    <tr>\n",
       "      <th>0</th>\n",
       "      <td>00eed32682bb</td>\n",
       "      <td>0.5</td>\n",
       "      <td>0.5</td>\n",
       "    </tr>\n",
       "    <tr>\n",
       "      <th>1</th>\n",
       "      <td>010ebe33f668</td>\n",
       "      <td>0.5</td>\n",
       "      <td>0.5</td>\n",
       "    </tr>\n",
       "    <tr>\n",
       "      <th>2</th>\n",
       "      <td>02fa521e1838</td>\n",
       "      <td>0.5</td>\n",
       "      <td>0.5</td>\n",
       "    </tr>\n",
       "    <tr>\n",
       "      <th>3</th>\n",
       "      <td>040e15f562a2</td>\n",
       "      <td>0.5</td>\n",
       "      <td>0.5</td>\n",
       "    </tr>\n",
       "    <tr>\n",
       "      <th>4</th>\n",
       "      <td>046e85c7cc7f</td>\n",
       "      <td>0.5</td>\n",
       "      <td>0.5</td>\n",
       "    </tr>\n",
       "  </tbody>\n",
       "</table>\n",
       "</div>"
      ],
      "text/plain": [
       "             Id  class_0  class_1\n",
       "0  00eed32682bb      0.5      0.5\n",
       "1  010ebe33f668      0.5      0.5\n",
       "2  02fa521e1838      0.5      0.5\n",
       "3  040e15f562a2      0.5      0.5\n",
       "4  046e85c7cc7f      0.5      0.5"
      ]
     },
     "execution_count": 12,
     "metadata": {},
     "output_type": "execute_result"
    }
   ],
   "source": [
    "submission\n"
   ]
  }
 ],
 "metadata": {
  "kernelspec": {
   "display_name": "Python 3",
   "language": "python",
   "name": "python3"
  },
  "language_info": {
   "codemirror_mode": {
    "name": "ipython",
    "version": 3
   },
   "file_extension": ".py",
   "mimetype": "text/x-python",
   "name": "python",
   "nbconvert_exporter": "python",
   "pygments_lexer": "ipython3",
   "version": "3.10.12"
  },
  "papermill": {
   "default_parameters": {},
   "duration": 64.755245,
   "end_time": "2023-08-13T11:09:52.407236",
   "environment_variables": {},
   "exception": null,
   "input_path": "__notebook__.ipynb",
   "output_path": "__notebook__.ipynb",
   "parameters": {},
   "start_time": "2023-08-13T11:08:47.651991",
   "version": "2.4.0"
  }
 },
 "nbformat": 4,
 "nbformat_minor": 5
}
